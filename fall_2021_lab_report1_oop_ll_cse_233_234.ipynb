{
  "nbformat": 4,
  "nbformat_minor": 0,
  "metadata": {
    "colab": {
      "name": " fall 2021 lab report1 oop ll cse 233/234.ipynb",
      "provenance": [],
      "authorship_tag": "ABX9TyOk4J5yrQh7hfw2K9Y0Tfj8",
      "include_colab_link": true
    },
    "kernelspec": {
      "name": "python3",
      "display_name": "Python 3"
    },
    "language_info": {
      "name": "python"
    }
  },
  "cells": [
    {
      "cell_type": "markdown",
      "metadata": {
        "id": "view-in-github",
        "colab_type": "text"
      },
      "source": [
        "<a href=\"https://colab.research.google.com/github/showrov2754/-Write-a-program-to-print-your-Name-ID-Department-and-EmailForum/blob/main/fall_2021_lab_report1_oop_ll_cse_233_234.ipynb\" target=\"_parent\"><img src=\"https://colab.research.google.com/assets/colab-badge.svg\" alt=\"Open In Colab\"/></a>"
      ]
    },
    {
      "cell_type": "markdown",
      "source": [
        "**Write a program to print your Name, ID, Department and EmailForum**"
      ],
      "metadata": {
        "id": "weeoWbpUFGM9"
      }
    },
    {
      "cell_type": "code",
      "source": [
        "def personal_details():\n",
        "    name, id = \"Simon\", 191152754\n",
        "    dep = \"computer & engineering\"\n",
        "    email =\"muhammad15-2754@diu.edu.bd\"\n",
        "    print(\"Name: {}\\nid: {}\\ndep : {}\\nemail : {}\".format(name, id, dep , email ))\n",
        "\n",
        "personal_details()"
      ],
      "metadata": {
        "colab": {
          "base_uri": "https://localhost:8080/"
        },
        "id": "BdQNiC3LFKNF",
        "outputId": "d2340f0c-078f-43c2-a174-36244d8cab87"
      },
      "execution_count": 13,
      "outputs": [
        {
          "output_type": "stream",
          "name": "stdout",
          "text": [
            "Name: Simon\n",
            "id: 191152754\n",
            "dep : computer & engineering\n",
            "email : muhammad15-2754@diu.edu.bd\n"
          ]
        }
      ]
    }
  ]
}